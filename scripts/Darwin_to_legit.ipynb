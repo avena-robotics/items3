{
 "cells": [
  {
   "cell_type": "code",
   "execution_count": 12,
   "id": "df4698d2",
   "metadata": {},
   "outputs": [],
   "source": [
    "# Import json\n",
    "import json"
   ]
  },
  {
   "cell_type": "code",
   "execution_count": 29,
   "id": "889a27f2",
   "metadata": {},
   "outputs": [],
   "source": [
    "# Read json with Darwin COCO annotations\n",
    "with open(\"datasets/old_darwin_dataset/output.json\", \"r\") as f:\n",
    "    annotations = json.load(f)"
   ]
  },
  {
   "cell_type": "code",
   "execution_count": 30,
   "id": "752571fd",
   "metadata": {},
   "outputs": [],
   "source": [
    "# Change all annotations ids\n",
    "for i in range(len(annotations[\"annotations\"])):\n",
    "    cat_id = annotations[\"annotations\"][i]['category_id']\n",
    "    annotations[\"annotations\"][i]['category_id'] = int(annotations['categories'][cat_id]['name'].split('-')[0])"
   ]
  },
  {
   "cell_type": "code",
   "execution_count": 31,
   "id": "742c3c70",
   "metadata": {},
   "outputs": [],
   "source": [
    "# Set ID of each by taking id from the name\n",
    "for i in range(len(annotations[\"categories\"])):\n",
    "    annotations[\"categories\"][i][\"id\"] = int(annotations['categories'][i]['name'].split('-')[0])"
   ]
  },
  {
   "cell_type": "code",
   "execution_count": 35,
   "id": "41b4bb60",
   "metadata": {},
   "outputs": [
    {
     "data": {
      "text/plain": [
       "[{'id': 1, 'name': '01-apple', 'supercategory': 'root'},\n",
       " {'id': 2, 'name': '02-banana', 'supercategory': 'root'},\n",
       " {'id': 3, 'name': '03-broccoli', 'supercategory': 'root'},\n",
       " {'id': 4, 'name': '04-carrot', 'supercategory': 'root'},\n",
       " {'id': 5, 'name': '05-cucumber', 'supercategory': 'root'},\n",
       " {'id': 6, 'name': '06-lemon', 'supercategory': 'root'},\n",
       " {'id': 7, 'name': '07-onion', 'supercategory': 'root'},\n",
       " {'id': 8, 'name': '08-orange', 'supercategory': 'root'},\n",
       " {'id': 9, 'name': '09-pepper', 'supercategory': 'root'},\n",
       " {'id': 10, 'name': '10-tomato', 'supercategory': 'root'},\n",
       " {'id': 11, 'name': '11-tealipton25pcs', 'supercategory': 'root'},\n",
       " {'id': 12, 'name': '12-cuttingboardwoodenbig', 'supercategory': 'root'},\n",
       " {'id': 13, 'name': '13-cuttingboardplasticplain', 'supercategory': 'root'},\n",
       " {'id': 14, 'name': '14-platelarge', 'supercategory': 'root'},\n",
       " {'id': 15, 'name': '15-platemedium', 'supercategory': 'root'},\n",
       " {'id': 16, 'name': '16-platesmall', 'supercategory': 'root'},\n",
       " {'id': 17, 'name': '17-bowlwooden', 'supercategory': 'root'},\n",
       " {'id': 18, 'name': '18-bowldoubleside', 'supercategory': 'root'},\n",
       " {'id': 19, 'name': '19-bowlsmall', 'supercategory': 'root'},\n",
       " {'id': 20, 'name': '20-cuttingboardplasticgreen', 'supercategory': 'root'},\n",
       " {'id': 21, 'name': '21-platesmallmatte', 'supercategory': 'root'},\n",
       " {'id': 22, 'name': '22-spatulacurved', 'supercategory': 'root'},\n",
       " {'id': 23, 'name': '23-spatulamintgrey', 'supercategory': 'root'},\n",
       " {'id': 24, 'name': '24-spatulapinkblack', 'supercategory': 'root'},\n",
       " {'id': 25, 'name': '25-ladle', 'supercategory': 'root'},\n",
       " {'id': 26, 'name': '26-knifebigblack', 'supercategory': 'root'},\n",
       " {'id': 27, 'name': '27-humanarm', 'supercategory': 'root'},\n",
       " {'id': 28, 'name': '28-milkboxrectangle', 'supercategory': 'root'},\n",
       " {'id': 29, 'name': '29-milkboxsquare', 'supercategory': 'root'}]"
      ]
     },
     "execution_count": 35,
     "metadata": {},
     "output_type": "execute_result"
    }
   ],
   "source": [
    "# Display categories\n",
    "annotations['categories']"
   ]
  },
  {
   "cell_type": "code",
   "execution_count": 33,
   "id": "0e42207f",
   "metadata": {},
   "outputs": [],
   "source": [
    "# Fill categories with missing classes\n",
    "\n",
    "\n",
    "# annotations['categories'].append({'id':4, 'name': '04-carrot', 'supercategory': 'root'})\n",
    "# annotations['categories'].append({'id':7, 'name': '07-onion', 'supercategory': 'root'})\n",
    "# annotations['categories'].append({'id':19, 'name': '19-bowlsmall', 'supercategory': 'root'})\n",
    "# annotations['categories'].append({'id':20, 'name': '20-cuttingboardplasticgreen', 'supercategory': 'root'})\n",
    "# annotations['categories'].append({'id':22, 'name': '22-spatulacurved', 'supercategory': 'root'})\n",
    "# annotations['categories'].append({'id':23, 'name': '23-spatulamintgrey', 'supercategory': 'root'})\n",
    "# annotations['categories'].append({'id':24, 'name': '24-spatulapinkblack', 'supercategory': 'root'})\n",
    "# annotations['categories'].append({'id':25, 'name': '25-ladle', 'supercategory': 'root'})\n",
    "# annotations['categories'].append({'id':26, 'name': '26-knifebigblack', 'supercategory': 'root'})\n",
    "# annotations['categories'].append({'id':27, 'name': '27-humanarm', 'supercategory': 'root'})\n",
    "\n",
    "############################################################################################################\n",
    "\n",
    "annotations['categories'].append({'id':3, 'name': '03-broccoli', 'supercategory': 'root'})\n",
    "annotations['categories'].append({'id':6, 'name': '06-lemon', 'supercategory': 'root'})\n",
    "annotations['categories'].append({'id':7, 'name': '07-onion', 'supercategory': 'root'})\n",
    "annotations['categories'].append({'id':12, 'name': '12-cuttingboardwoodenbig', 'supercategory': 'root'})\n",
    "annotations['categories'].append({'id':15, 'name': '15-platemedium', 'supercategory': 'root'})\n",
    "annotations['categories'].append({'id':16, 'name': '16-platesmall', 'supercategory': 'root'})\n",
    "annotations['categories'].append({'id':17, 'name': '17-bowlwooden', 'supercategory': 'root'})\n",
    "annotations['categories'].append({'id':18, 'name': '18-bowldoubleside', 'supercategory': 'root'})\n",
    "annotations['categories'].append({'id':19, 'name': '19-bowlsmall', 'supercategory': 'root'})\n",
    "annotations['categories'].append({'id':21, 'name': '21-platesmallmatte', 'supercategory': 'root'})\n",
    "annotations['categories'].append({'id':22, 'name': '22-spatulacurved', 'supercategory': 'root'})\n",
    "annotations['categories'].append({'id':23, 'name': '23-spatulamintgrey', 'supercategory': 'root'})\n",
    "annotations['categories'].append({'id':24, 'name': '24-spatulapinkblack', 'supercategory': 'root'})\n",
    "annotations['categories'].append({'id':25, 'name': '25-ladle', 'supercategory': 'root'})\n",
    "annotations['categories'].append({'id':26, 'name': '26-knifebigblack', 'supercategory': 'root'})\n",
    "annotations['categories'].append({'id':29, 'name': '29-milkboxsquare', 'supercategory': 'root'})\n"
   ]
  },
  {
   "cell_type": "code",
   "execution_count": 34,
   "id": "a8392195",
   "metadata": {},
   "outputs": [],
   "source": [
    "# Sort categories\n",
    "annotations['categories'] = sorted(annotations['categories'], key=lambda x: x['id'])"
   ]
  },
  {
   "cell_type": "code",
   "execution_count": 36,
   "id": "b074b293",
   "metadata": {},
   "outputs": [],
   "source": [
    "# Save new annotations\n",
    "with open(\"datasets/old_darwin_dataset/new_coco.json\", \"w\") as f:\n",
    "    json.dump(annotations, f, indent=3)"
   ]
  }
 ],
 "metadata": {
  "kernelspec": {
   "display_name": "Python 3 (ipykernel)",
   "language": "python",
   "name": "python3"
  },
  "language_info": {
   "codemirror_mode": {
    "name": "ipython",
    "version": 3
   },
   "file_extension": ".py",
   "mimetype": "text/x-python",
   "name": "python",
   "nbconvert_exporter": "python",
   "pygments_lexer": "ipython3",
   "version": "3.8.12"
  }
 },
 "nbformat": 4,
 "nbformat_minor": 5
}
