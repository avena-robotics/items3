{
 "cells": [
  {
   "cell_type": "code",
   "execution_count": 1,
   "id": "7b193923",
   "metadata": {},
   "outputs": [],
   "source": [
    "import json"
   ]
  },
  {
   "cell_type": "code",
   "execution_count": 3,
   "id": "d4fc53a2",
   "metadata": {},
   "outputs": [],
   "source": [
    "with open(\"paper_datasets/primitive/pattern/dataset1/coco_annotations.json\", \"r\") as f:\n",
    "    data = json.load(f)"
   ]
  },
  {
   "cell_type": "code",
   "execution_count": 5,
   "id": "ab7782ea",
   "metadata": {},
   "outputs": [
    {
     "data": {
      "text/plain": [
       "[{'id': 13, 'supercategory': 'coco_annotations', 'name': 13},\n",
       " {'id': 20, 'supercategory': 'coco_annotations', 'name': 20},\n",
       " {'id': 12, 'supercategory': 'coco_annotations', 'name': 12},\n",
       " {'id': 10, 'supercategory': 'coco_annotations', 'name': 10},\n",
       " {'id': 29, 'supercategory': 'coco_annotations', 'name': 29},\n",
       " {'id': 5, 'supercategory': 'coco_annotations', 'name': 5},\n",
       " {'id': 3, 'supercategory': 'coco_annotations', 'name': 3},\n",
       " {'id': 9, 'supercategory': 'coco_annotations', 'name': 9},\n",
       " {'id': 7, 'supercategory': 'coco_annotations', 'name': 7},\n",
       " {'id': 4, 'supercategory': 'coco_annotations', 'name': 4},\n",
       " {'id': 2, 'supercategory': 'coco_annotations', 'name': 2},\n",
       " {'id': 28, 'supercategory': 'coco_annotations', 'name': 28},\n",
       " {'id': 1, 'supercategory': 'coco_annotations', 'name': 1},\n",
       " {'id': 11, 'supercategory': 'coco_annotations', 'name': 11},\n",
       " {'id': 8, 'supercategory': 'coco_annotations', 'name': 8},\n",
       " {'id': 6, 'supercategory': 'coco_annotations', 'name': 6},\n",
       " {'id': 15, 'supercategory': 'coco_annotations', 'name': 15},\n",
       " {'id': 18, 'supercategory': 'coco_annotations', 'name': 18},\n",
       " {'id': 14, 'supercategory': 'coco_annotations', 'name': 14},\n",
       " {'id': 16, 'supercategory': 'coco_annotations', 'name': 16},\n",
       " {'id': 17, 'supercategory': 'coco_annotations', 'name': 17},\n",
       " {'id': 21, 'supercategory': 'coco_annotations', 'name': 21},\n",
       " {'id': 19, 'supercategory': 'coco_annotations', 'name': 19}]"
      ]
     },
     "execution_count": 5,
     "metadata": {},
     "output_type": "execute_result"
    }
   ],
   "source": [
    "data['categories']"
   ]
  },
  {
   "cell_type": "code",
   "execution_count": 7,
   "id": "4f678e50",
   "metadata": {},
   "outputs": [],
   "source": [
    "ids = [d['id'] for d in data['categories']]"
   ]
  },
  {
   "cell_type": "code",
   "execution_count": 9,
   "id": "7a297d4b",
   "metadata": {},
   "outputs": [],
   "source": [
    "for i in range(1, 30):\n",
    "    if i in ids:\n",
    "        continue\n",
    "    data['categories'].append({'id': i, 'supercategory': 'coco_annotations', 'name': i})"
   ]
  },
  {
   "cell_type": "code",
   "execution_count": 12,
   "id": "667396ab",
   "metadata": {},
   "outputs": [],
   "source": [
    "data['categories'] = sorted(data['categories'], key=lambda x: x['id'])"
   ]
  },
  {
   "cell_type": "code",
   "execution_count": 13,
   "id": "7a7c79cf",
   "metadata": {},
   "outputs": [
    {
     "data": {
      "text/plain": [
       "[{'id': 1, 'supercategory': 'coco_annotations', 'name': 1},\n",
       " {'id': 2, 'supercategory': 'coco_annotations', 'name': 2},\n",
       " {'id': 3, 'supercategory': 'coco_annotations', 'name': 3},\n",
       " {'id': 4, 'supercategory': 'coco_annotations', 'name': 4},\n",
       " {'id': 5, 'supercategory': 'coco_annotations', 'name': 5},\n",
       " {'id': 6, 'supercategory': 'coco_annotations', 'name': 6},\n",
       " {'id': 7, 'supercategory': 'coco_annotations', 'name': 7},\n",
       " {'id': 8, 'supercategory': 'coco_annotations', 'name': 8},\n",
       " {'id': 9, 'supercategory': 'coco_annotations', 'name': 9},\n",
       " {'id': 10, 'supercategory': 'coco_annotations', 'name': 10},\n",
       " {'id': 11, 'supercategory': 'coco_annotations', 'name': 11},\n",
       " {'id': 12, 'supercategory': 'coco_annotations', 'name': 12},\n",
       " {'id': 13, 'supercategory': 'coco_annotations', 'name': 13},\n",
       " {'id': 14, 'supercategory': 'coco_annotations', 'name': 14},\n",
       " {'id': 15, 'supercategory': 'coco_annotations', 'name': 15},\n",
       " {'id': 16, 'supercategory': 'coco_annotations', 'name': 16},\n",
       " {'id': 17, 'supercategory': 'coco_annotations', 'name': 17},\n",
       " {'id': 18, 'supercategory': 'coco_annotations', 'name': 18},\n",
       " {'id': 19, 'supercategory': 'coco_annotations', 'name': 19},\n",
       " {'id': 20, 'supercategory': 'coco_annotations', 'name': 20},\n",
       " {'id': 21, 'supercategory': 'coco_annotations', 'name': 21},\n",
       " {'id': 22, 'supercategory': 'coco_annotations', 'name': 22},\n",
       " {'id': 23, 'supercategory': 'coco_annotations', 'name': 23},\n",
       " {'id': 24, 'supercategory': 'coco_annotations', 'name': 24},\n",
       " {'id': 25, 'supercategory': 'coco_annotations', 'name': 25},\n",
       " {'id': 26, 'supercategory': 'coco_annotations', 'name': 26},\n",
       " {'id': 27, 'supercategory': 'coco_annotations', 'name': 27},\n",
       " {'id': 28, 'supercategory': 'coco_annotations', 'name': 28},\n",
       " {'id': 29, 'supercategory': 'coco_annotations', 'name': 29}]"
      ]
     },
     "execution_count": 13,
     "metadata": {},
     "output_type": "execute_result"
    }
   ],
   "source": [
    "data['categories']"
   ]
  },
  {
   "cell_type": "code",
   "execution_count": 14,
   "id": "2b01292f",
   "metadata": {},
   "outputs": [],
   "source": [
    "with open(\"paper_datasets/primitive/pattern/dataset1/coco_annotations_proper.json\", \"w\") as f:\n",
    "    json.dump(data, f)"
   ]
  },
  {
   "cell_type": "code",
   "execution_count": 3,
   "id": "ce5552d8",
   "metadata": {},
   "outputs": [],
   "source": [
    "import json\n",
    "for i in range(8, 14):\n",
    "    with open(f\"paper_datasets/HDRI_worktoptexture/pattern/dataset{str(i)}/coco_annotations.json\", \"r\") as f:\n",
    "        data = json.load(f)\n",
    "    ids = [d['id'] for d in data['categories']]\n",
    "    for j in range(1, 30):\n",
    "        if j in ids:\n",
    "            continue\n",
    "        data['categories'].append({'id': j, 'supercategory': 'coco_annotations', 'name': j})\n",
    "    data['categories'] = sorted(data['categories'], key=lambda x: x['id'])\n",
    "    with open(f\"paper_datasets/HDRI_worktoptexture/pattern/dataset{str(i)}/coco_annotations_proper.json\", \"w\") as f:\n",
    "        json.dump(data, f)"
   ]
  },
  {
   "cell_type": "code",
   "execution_count": null,
   "id": "1c89a917",
   "metadata": {},
   "outputs": [],
   "source": []
  }
 ],
 "metadata": {
  "kernelspec": {
   "display_name": "Python 3 (ipykernel)",
   "language": "python",
   "name": "python3"
  },
  "language_info": {
   "codemirror_mode": {
    "name": "ipython",
    "version": 3
   },
   "file_extension": ".py",
   "mimetype": "text/x-python",
   "name": "python",
   "nbconvert_exporter": "python",
   "pygments_lexer": "ipython3",
   "version": "3.8.12"
  }
 },
 "nbformat": 4,
 "nbformat_minor": 5
}
